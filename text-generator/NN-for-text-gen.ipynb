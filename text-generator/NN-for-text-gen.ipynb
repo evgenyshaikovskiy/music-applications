{
 "cells": [
  {
   "cell_type": "code",
   "execution_count": 23,
   "id": "3254d3da-457e-41ea-ba62-b80929c34ae6",
   "metadata": {},
   "outputs": [],
   "source": [
    "import numpy as np \n",
    "import matplotlib.pyplot as plt\n",
    "from tensorflow.keras.models import Sequential\n",
    "from tensorflow.keras.utils import to_categorical \n",
    "from tensorflow.keras.preprocessing.text import Tokenizer\n",
    "from tensorflow.keras.preprocessing.sequence import pad_sequences\n",
    "from tensorflow.keras.layers import Embedding, LSTM, Dense, Bidirectional"
   ]
  },
  {
   "cell_type": "code",
   "execution_count": 24,
   "id": "f8d9feee-93a3-4c00-8abc-0d84ea882fb9",
   "metadata": {},
   "outputs": [],
   "source": [
    "EMBEDDING_DIM = 100\n",
    "MAXLEN = 16\n",
    "TRUNCATING = 'post'\n",
    "PADDING = 'post'\n",
    "OOV_TOKEN = \"<OOV>\"\n",
    "MAX_EXAMPLES = 160000\n",
    "TRAINING_SPLIT = 0.9"
   ]
  },
  {
   "cell_type": "code",
   "execution_count": 26,
   "id": "eb386560-47d8-47c2-89f2-ab0b9a5949dc",
   "metadata": {},
   "outputs": [
    {
     "name": "stdout",
     "output_type": "stream",
     "text": [
      "There are 283 lines of sonnets\n",
      "\n",
      "The first 5 lines look like this:\n",
      "\n",
      "at the library \n",
      "don't leave me \n",
      "i was there \n",
      "disappearing boy \n",
      "green day \n"
     ]
    }
   ],
   "source": [
    "SONNETS_FILE = '/home/siarhei/Programming/Univer/Koursach/music-applications/text-generator/lyrics-data.txt'\n",
    "\n",
    "# Read the data\n",
    "with open(SONNETS_FILE) as f:\n",
    "    data = f.read()\n",
    "\n",
    "# Convert to lower case and save as a list\n",
    "corpus = data.lower().split(\"\\n\")\n",
    "\n",
    "print(f\"There are {len(corpus)} lines of sonnets\\n\")\n",
    "print(f\"The first 5 lines look like this:\\n\")\n",
    "for i in range(5):\n",
    "    print(corpus[i])"
   ]
  },
  {
   "cell_type": "code",
   "execution_count": 27,
   "id": "4c997a79-a532-4f7b-8501-66aedaf550e2",
   "metadata": {},
   "outputs": [],
   "source": [
    "tokenizer = Tokenizer()\n",
    "tokenizer.fit_on_texts(corpus)\n",
    "total_words = len(tokenizer.word_index) + 1"
   ]
  },
  {
   "cell_type": "code",
   "execution_count": 28,
   "id": "2a082c99-e5c3-48cc-80c5-33a3e8862464",
   "metadata": {},
   "outputs": [
    {
     "data": {
      "text/plain": [
       "[[1, 7, 41, 1, 7, 41, 41, 122, 19, 104]]"
      ]
     },
     "execution_count": 28,
     "metadata": {},
     "output_type": "execute_result"
    }
   ],
   "source": [
    "tokenizer.texts_to_sequences([corpus[27]])"
   ]
  },
  {
   "cell_type": "code",
   "execution_count": 30,
   "id": "e37060ef-6a29-47d7-9319-3ea075a1c763",
   "metadata": {},
   "outputs": [
    {
     "data": {
      "text/plain": [
       "[1, 7, 41, 1, 7, 41, 41, 122, 19, 104]"
      ]
     },
     "execution_count": 30,
     "metadata": {},
     "output_type": "execute_result"
    }
   ],
   "source": [
    "tokenizer.texts_to_sequences([corpus[27]])[0]"
   ]
  },
  {
   "cell_type": "code",
   "execution_count": 31,
   "id": "19b0ee28-998a-46e2-a089-761f8489aada",
   "metadata": {},
   "outputs": [],
   "source": [
    "def n_gram_seqs(corpus, tokenizer):\n",
    "    input_sequences = []\n",
    "    for line in corpus:\n",
    "        token_list = tokenizer.texts_to_sequences([line])[0]\n",
    "        for i in range(1, len(token_list)):\n",
    "            n_gram_sequence = token_list[:i+1]\n",
    "            input_sequences.append(n_gram_sequence)\n",
    "    return input_sequences"
   ]
  },
  {
   "cell_type": "code",
   "execution_count": 32,
   "id": "7f6a7deb-b6d1-453a-85a3-b26639606e82",
   "metadata": {},
   "outputs": [
    {
     "name": "stdout",
     "output_type": "stream",
     "text": [
      "n_gram sequences for first example look like this:\n",
      "\n"
     ]
    },
    {
     "data": {
      "text/plain": [
       "[[1, 7],\n",
       " [1, 7, 41],\n",
       " [1, 7, 41, 1],\n",
       " [1, 7, 41, 1, 7],\n",
       " [1, 7, 41, 1, 7, 41],\n",
       " [1, 7, 41, 1, 7, 41, 41],\n",
       " [1, 7, 41, 1, 7, 41, 41, 122],\n",
       " [1, 7, 41, 1, 7, 41, 41, 122, 19],\n",
       " [1, 7, 41, 1, 7, 41, 41, 122, 19, 104]]"
      ]
     },
     "execution_count": 32,
     "metadata": {},
     "output_type": "execute_result"
    }
   ],
   "source": [
    "first_example_sequence = n_gram_seqs([corpus[27]], tokenizer)\n",
    "\n",
    "print(\"n_gram sequences for first example look like this:\\n\")\n",
    "first_example_sequence"
   ]
  },
  {
   "cell_type": "code",
   "execution_count": 33,
   "id": "4525b885-9c51-4136-b37c-4c78b83389a8",
   "metadata": {},
   "outputs": [
    {
     "name": "stdout",
     "output_type": "stream",
     "text": [
      "n_gram sequences for next 3 examples look like this:\n",
      "\n"
     ]
    },
    {
     "data": {
      "text/plain": [
       "[[7, 38], [7, 38, 8], [1, 21], [1, 21, 27], [51, 52]]"
      ]
     },
     "execution_count": 33,
     "metadata": {},
     "output_type": "execute_result"
    }
   ],
   "source": [
    "# Test your function with a bigger corpus\n",
    "next_3_examples_sequence = n_gram_seqs(corpus[1:4], tokenizer)\n",
    "\n",
    "print(\"n_gram sequences for next 3 examples look like this:\\n\")\n",
    "next_3_examples_sequence"
   ]
  },
  {
   "cell_type": "code",
   "execution_count": 34,
   "id": "25996f13-9ebd-49b2-a61e-e8eda368757b",
   "metadata": {},
   "outputs": [
    {
     "name": "stdout",
     "output_type": "stream",
     "text": [
      "n_grams of input_sequences have length: 1112\n",
      "maximum length of sequences is: 18\n"
     ]
    }
   ],
   "source": [
    "# Apply the n_gram_seqs transformation to the whole corpus\n",
    "input_sequences = n_gram_seqs(corpus, tokenizer)\n",
    "\n",
    "# Save max length \n",
    "max_sequence_len = max([len(x) for x in input_sequences])\n",
    "\n",
    "print(f\"n_grams of input_sequences have length: {len(input_sequences)}\")\n",
    "print(f\"maximum length of sequences is: {max_sequence_len}\")"
   ]
  },
  {
   "cell_type": "code",
   "execution_count": 35,
   "id": "5be6295d-b9e7-4e3f-81f4-73bb0543297b",
   "metadata": {},
   "outputs": [],
   "source": [
    "def pad_seqs(input_sequences, maxlen):\n",
    "    max_sequence_len = max([len(x) for x in input_sequences])\n",
    "    padded_sequences = np.array(pad_sequences(input_sequences, maxlen=max_sequence_len, padding='pre'))\n",
    "    return padded_sequences"
   ]
  },
  {
   "cell_type": "code",
   "execution_count": 36,
   "id": "429ab985-1dc9-444a-b691-1cd21fbf35b4",
   "metadata": {},
   "outputs": [
    {
     "data": {
      "text/plain": [
       "array([[  0,   0,   0,   0,   0,   0,   0,   0,   1,   7],\n",
       "       [  0,   0,   0,   0,   0,   0,   0,   1,   7,  41],\n",
       "       [  0,   0,   0,   0,   0,   0,   1,   7,  41,   1],\n",
       "       [  0,   0,   0,   0,   0,   1,   7,  41,   1,   7],\n",
       "       [  0,   0,   0,   0,   1,   7,  41,   1,   7,  41],\n",
       "       [  0,   0,   0,   1,   7,  41,   1,   7,  41,  41],\n",
       "       [  0,   0,   1,   7,  41,   1,   7,  41,  41, 122],\n",
       "       [  0,   1,   7,  41,   1,   7,  41,  41, 122,  19],\n",
       "       [  1,   7,  41,   1,   7,  41,  41, 122,  19, 104]], dtype=int32)"
      ]
     },
     "execution_count": 36,
     "metadata": {},
     "output_type": "execute_result"
    }
   ],
   "source": [
    "first_padded_seq = pad_seqs(first_example_sequence, len(first_example_sequence))\n",
    "first_padded_seq"
   ]
  },
  {
   "cell_type": "code",
   "execution_count": 37,
   "id": "f0f46f90-336b-4935-8324-f6a0fe786a40",
   "metadata": {},
   "outputs": [
    {
     "data": {
      "text/plain": [
       "array([[ 0,  7, 38],\n",
       "       [ 7, 38,  8],\n",
       "       [ 0,  1, 21],\n",
       "       [ 1, 21, 27],\n",
       "       [ 0, 51, 52]], dtype=int32)"
      ]
     },
     "execution_count": 37,
     "metadata": {},
     "output_type": "execute_result"
    }
   ],
   "source": [
    "next_3_padded_seq = pad_seqs(next_3_examples_sequence, max([len(s) for s in next_3_examples_sequence]))\n",
    "next_3_padded_seq"
   ]
  },
  {
   "cell_type": "code",
   "execution_count": 38,
   "id": "3b784ebc-a6af-44e8-b1c0-3f4fdea9341a",
   "metadata": {},
   "outputs": [
    {
     "name": "stdout",
     "output_type": "stream",
     "text": [
      "padded corpus has shape: (1112, 18)\n"
     ]
    }
   ],
   "source": [
    "# Pad the whole corpus\n",
    "input_sequences = pad_seqs(input_sequences, max_sequence_len)\n",
    "print(f\"padded corpus has shape: {input_sequences.shape}\")"
   ]
  },
  {
   "cell_type": "code",
   "execution_count": 39,
   "id": "affa6d16-f3cf-4023-a210-5604af65b971",
   "metadata": {},
   "outputs": [],
   "source": [
    "def features_and_labels(input_sequences, total_words):\n",
    "    features = input_sequences[:, :-1]\n",
    "    labels = input_sequences[:, -1]\n",
    "    one_hot_labels = to_categorical(labels, num_classes=total_words)\n",
    "    return features, one_hot_labels"
   ]
  },
  {
   "cell_type": "code",
   "execution_count": 40,
   "id": "7e047742-116a-4183-bd41-6c2d71c1ebb8",
   "metadata": {},
   "outputs": [
    {
     "name": "stdout",
     "output_type": "stream",
     "text": [
      "labels have shape: (9, 466)\n",
      "\n",
      "features look like this:\n",
      "\n"
     ]
    },
    {
     "data": {
      "text/plain": [
       "array([[  0,   0,   0,   0,   0,   0,   0,   0,   1],\n",
       "       [  0,   0,   0,   0,   0,   0,   0,   1,   7],\n",
       "       [  0,   0,   0,   0,   0,   0,   1,   7,  41],\n",
       "       [  0,   0,   0,   0,   0,   1,   7,  41,   1],\n",
       "       [  0,   0,   0,   0,   1,   7,  41,   1,   7],\n",
       "       [  0,   0,   0,   1,   7,  41,   1,   7,  41],\n",
       "       [  0,   0,   1,   7,  41,   1,   7,  41,  41],\n",
       "       [  0,   1,   7,  41,   1,   7,  41,  41, 122],\n",
       "       [  1,   7,  41,   1,   7,  41,  41, 122,  19]], dtype=int32)"
      ]
     },
     "execution_count": 40,
     "metadata": {},
     "output_type": "execute_result"
    }
   ],
   "source": [
    "first_features, first_labels = features_and_labels(first_padded_seq, total_words)\n",
    "\n",
    "print(f\"labels have shape: {first_labels.shape}\")\n",
    "print(\"\\nfeatures look like this:\\n\")\n",
    "first_features"
   ]
  },
  {
   "cell_type": "code",
   "execution_count": 41,
   "id": "3d51104b-1e0c-4d9f-9b6b-458c6482678d",
   "metadata": {},
   "outputs": [
    {
     "name": "stdout",
     "output_type": "stream",
     "text": [
      "features have shape: (1112, 17)\n",
      "labels have shape: (1112, 466)\n"
     ]
    }
   ],
   "source": [
    "# Split the whole corpus\n",
    "features, labels = features_and_labels(input_sequences, total_words)\n",
    "\n",
    "print(f\"features have shape: {features.shape}\")\n",
    "print(f\"labels have shape: {labels.shape}\")"
   ]
  },
  {
   "cell_type": "code",
   "execution_count": 42,
   "id": "23ac1137-2e9e-44ae-9171-f76302be387c",
   "metadata": {},
   "outputs": [],
   "source": [
    "from pyparsing import actions\n",
    "\n",
    "def create_model(total_words, max_sequence_len):\n",
    "    \n",
    "    model = Sequential()\n",
    "    model.add(Embedding(total_words, 100, input_length=max_sequence_len-1))\n",
    "    model.add(Bidirectional(LSTM(150)))\n",
    "    model.add(Dense(total_words, activation='softmax'))\n",
    "    model.compile(loss='categorical_crossentropy',\n",
    "                  optimizer='adam',\n",
    "                  metrics=['accuracy'])\n",
    "    return model"
   ]
  },
  {
   "cell_type": "code",
   "execution_count": 44,
   "id": "cd321e6e-ed01-48a9-b9f6-e2a653465c97",
   "metadata": {},
   "outputs": [
    {
     "name": "stdout",
     "output_type": "stream",
     "text": [
      "Model: \"sequential_1\"\n",
      "_________________________________________________________________\n",
      " Layer (type)                Output Shape              Param #   \n",
      "=================================================================\n",
      " embedding_1 (Embedding)     (None, 17, 100)           46600     \n",
      "                                                                 \n",
      " bidirectional_1 (Bidirectio  (None, 300)              301200    \n",
      " nal)                                                            \n",
      "                                                                 \n",
      " dense_1 (Dense)             (None, 466)               140266    \n",
      "                                                                 \n",
      "=================================================================\n",
      "Total params: 488,066\n",
      "Trainable params: 488,066\n",
      "Non-trainable params: 0\n",
      "_________________________________________________________________\n"
     ]
    }
   ],
   "source": [
    "# Get the untrained model\n",
    "model = create_model(total_words, max_sequence_len)\n",
    "model.summary()"
   ]
  },
  {
   "cell_type": "code",
   "execution_count": 45,
   "id": "e06c4193-1380-421d-9ae0-11f615e77108",
   "metadata": {},
   "outputs": [
    {
     "name": "stdout",
     "output_type": "stream",
     "text": [
      "Epoch 1/200\n",
      "35/35 [==============================] - 3s 13ms/step - loss: 5.9358 - accuracy: 0.0297\n",
      "Epoch 2/200\n",
      "35/35 [==============================] - 0s 12ms/step - loss: 5.5261 - accuracy: 0.0378\n",
      "Epoch 3/200\n",
      "35/35 [==============================] - 0s 13ms/step - loss: 5.4121 - accuracy: 0.0396\n",
      "Epoch 4/200\n",
      "35/35 [==============================] - 0s 14ms/step - loss: 5.2898 - accuracy: 0.0378\n",
      "Epoch 5/200\n",
      "35/35 [==============================] - 0s 13ms/step - loss: 5.1715 - accuracy: 0.0441\n",
      "Epoch 6/200\n",
      "35/35 [==============================] - 0s 13ms/step - loss: 5.0565 - accuracy: 0.0540\n",
      "Epoch 7/200\n",
      "35/35 [==============================] - 0s 13ms/step - loss: 4.9270 - accuracy: 0.0567\n",
      "Epoch 8/200\n",
      "35/35 [==============================] - 0s 13ms/step - loss: 4.7683 - accuracy: 0.0665\n",
      "Epoch 9/200\n",
      "35/35 [==============================] - 0s 13ms/step - loss: 4.5827 - accuracy: 0.0854\n",
      "Epoch 10/200\n",
      "35/35 [==============================] - 0s 13ms/step - loss: 4.4386 - accuracy: 0.1214\n",
      "Epoch 11/200\n",
      "35/35 [==============================] - 0s 13ms/step - loss: 4.1844 - accuracy: 0.1412\n",
      "Epoch 12/200\n",
      "35/35 [==============================] - 0s 13ms/step - loss: 3.9038 - accuracy: 0.1942\n",
      "Epoch 13/200\n",
      "35/35 [==============================] - 0s 14ms/step - loss: 3.6595 - accuracy: 0.2293\n",
      "Epoch 14/200\n",
      "35/35 [==============================] - 0s 14ms/step - loss: 3.3469 - accuracy: 0.2869\n",
      "Epoch 15/200\n",
      "35/35 [==============================] - 0s 14ms/step - loss: 3.1268 - accuracy: 0.3076\n",
      "Epoch 16/200\n",
      "35/35 [==============================] - 0s 13ms/step - loss: 2.8617 - accuracy: 0.3516\n",
      "Epoch 17/200\n",
      "35/35 [==============================] - 0s 13ms/step - loss: 2.6283 - accuracy: 0.3948\n",
      "Epoch 18/200\n",
      "35/35 [==============================] - 0s 13ms/step - loss: 2.4013 - accuracy: 0.4379\n",
      "Epoch 19/200\n",
      "35/35 [==============================] - 0s 13ms/step - loss: 2.1864 - accuracy: 0.4712\n",
      "Epoch 20/200\n",
      "35/35 [==============================] - 0s 13ms/step - loss: 1.9934 - accuracy: 0.5414\n",
      "Epoch 21/200\n",
      "35/35 [==============================] - 0s 13ms/step - loss: 1.8219 - accuracy: 0.5917\n",
      "Epoch 22/200\n",
      "35/35 [==============================] - 0s 13ms/step - loss: 1.6902 - accuracy: 0.6196\n",
      "Epoch 23/200\n",
      "35/35 [==============================] - 0s 13ms/step - loss: 1.5375 - accuracy: 0.6673\n",
      "Epoch 24/200\n",
      "35/35 [==============================] - 0s 13ms/step - loss: 1.4356 - accuracy: 0.6879\n",
      "Epoch 25/200\n",
      "35/35 [==============================] - 0s 13ms/step - loss: 1.2846 - accuracy: 0.7410\n",
      "Epoch 26/200\n",
      "35/35 [==============================] - 0s 13ms/step - loss: 1.2123 - accuracy: 0.7446\n",
      "Epoch 27/200\n",
      "35/35 [==============================] - 0s 13ms/step - loss: 1.0897 - accuracy: 0.7626\n",
      "Epoch 28/200\n",
      "35/35 [==============================] - 0s 13ms/step - loss: 1.0026 - accuracy: 0.7941\n",
      "Epoch 29/200\n",
      "35/35 [==============================] - 0s 13ms/step - loss: 0.9500 - accuracy: 0.8085\n",
      "Epoch 30/200\n",
      "35/35 [==============================] - 0s 13ms/step - loss: 0.8769 - accuracy: 0.8183\n",
      "Epoch 31/200\n",
      "35/35 [==============================] - 0s 13ms/step - loss: 0.7597 - accuracy: 0.8543\n",
      "Epoch 32/200\n",
      "35/35 [==============================] - 0s 13ms/step - loss: 0.7066 - accuracy: 0.8597\n",
      "Epoch 33/200\n",
      "35/35 [==============================] - 0s 13ms/step - loss: 0.6540 - accuracy: 0.8660\n",
      "Epoch 34/200\n",
      "35/35 [==============================] - 0s 13ms/step - loss: 0.6166 - accuracy: 0.8768\n",
      "Epoch 35/200\n",
      "35/35 [==============================] - 0s 13ms/step - loss: 0.5743 - accuracy: 0.8822\n",
      "Epoch 36/200\n",
      "35/35 [==============================] - 0s 13ms/step - loss: 0.5478 - accuracy: 0.8858\n",
      "Epoch 37/200\n",
      "35/35 [==============================] - 0s 13ms/step - loss: 0.5062 - accuracy: 0.8957\n",
      "Epoch 38/200\n",
      "35/35 [==============================] - 0s 13ms/step - loss: 0.4822 - accuracy: 0.8957\n",
      "Epoch 39/200\n",
      "35/35 [==============================] - 0s 13ms/step - loss: 0.4645 - accuracy: 0.8957\n",
      "Epoch 40/200\n",
      "35/35 [==============================] - 0s 13ms/step - loss: 0.4426 - accuracy: 0.9002\n",
      "Epoch 41/200\n",
      "35/35 [==============================] - 0s 13ms/step - loss: 0.4306 - accuracy: 0.9020\n",
      "Epoch 42/200\n",
      "35/35 [==============================] - 0s 13ms/step - loss: 0.4116 - accuracy: 0.9038\n",
      "Epoch 43/200\n",
      "35/35 [==============================] - 0s 14ms/step - loss: 0.3927 - accuracy: 0.9074\n",
      "Epoch 44/200\n",
      "35/35 [==============================] - 0s 14ms/step - loss: 0.3813 - accuracy: 0.9074\n",
      "Epoch 45/200\n",
      "35/35 [==============================] - 0s 13ms/step - loss: 0.3710 - accuracy: 0.9074\n",
      "Epoch 46/200\n",
      "35/35 [==============================] - 0s 13ms/step - loss: 0.3748 - accuracy: 0.9002\n",
      "Epoch 47/200\n",
      "35/35 [==============================] - 0s 13ms/step - loss: 0.3549 - accuracy: 0.9038\n",
      "Epoch 48/200\n",
      "35/35 [==============================] - 0s 13ms/step - loss: 0.3389 - accuracy: 0.9038\n",
      "Epoch 49/200\n",
      "35/35 [==============================] - 0s 13ms/step - loss: 0.3225 - accuracy: 0.9074\n",
      "Epoch 50/200\n",
      "35/35 [==============================] - 0s 13ms/step - loss: 0.3176 - accuracy: 0.9119\n",
      "Epoch 51/200\n",
      "35/35 [==============================] - 0s 13ms/step - loss: 0.3081 - accuracy: 0.9101\n",
      "Epoch 52/200\n",
      "35/35 [==============================] - 0s 13ms/step - loss: 0.3024 - accuracy: 0.9056\n",
      "Epoch 53/200\n",
      "35/35 [==============================] - 0s 13ms/step - loss: 0.3054 - accuracy: 0.9065\n",
      "Epoch 54/200\n",
      "35/35 [==============================] - 0s 13ms/step - loss: 0.2958 - accuracy: 0.9056\n",
      "Epoch 55/200\n",
      "35/35 [==============================] - 0s 13ms/step - loss: 0.2911 - accuracy: 0.9083\n",
      "Epoch 56/200\n",
      "35/35 [==============================] - 0s 13ms/step - loss: 0.2837 - accuracy: 0.9038\n",
      "Epoch 57/200\n",
      "35/35 [==============================] - 0s 14ms/step - loss: 0.2833 - accuracy: 0.9002\n",
      "Epoch 58/200\n",
      "35/35 [==============================] - 0s 13ms/step - loss: 0.2771 - accuracy: 0.9038\n",
      "Epoch 59/200\n",
      "35/35 [==============================] - 0s 13ms/step - loss: 0.2744 - accuracy: 0.9074\n",
      "Epoch 60/200\n",
      "35/35 [==============================] - 0s 14ms/step - loss: 0.2663 - accuracy: 0.9119\n",
      "Epoch 61/200\n",
      "35/35 [==============================] - 1s 15ms/step - loss: 0.2618 - accuracy: 0.9047\n",
      "Epoch 62/200\n",
      "35/35 [==============================] - 0s 13ms/step - loss: 0.2626 - accuracy: 0.9047\n",
      "Epoch 63/200\n",
      "35/35 [==============================] - 0s 13ms/step - loss: 0.2667 - accuracy: 0.9092\n",
      "Epoch 64/200\n",
      "35/35 [==============================] - 0s 13ms/step - loss: 0.2624 - accuracy: 0.9056\n",
      "Epoch 65/200\n",
      "35/35 [==============================] - 0s 13ms/step - loss: 0.2655 - accuracy: 0.9074\n",
      "Epoch 66/200\n",
      "35/35 [==============================] - 0s 13ms/step - loss: 0.2791 - accuracy: 0.9011\n",
      "Epoch 67/200\n",
      "35/35 [==============================] - 0s 13ms/step - loss: 0.2766 - accuracy: 0.9047\n",
      "Epoch 68/200\n",
      "35/35 [==============================] - 0s 13ms/step - loss: 0.2681 - accuracy: 0.9065\n",
      "Epoch 69/200\n",
      "35/35 [==============================] - 0s 13ms/step - loss: 0.2644 - accuracy: 0.9056\n",
      "Epoch 70/200\n",
      "35/35 [==============================] - 0s 13ms/step - loss: 0.2737 - accuracy: 0.9020\n",
      "Epoch 71/200\n",
      "35/35 [==============================] - 0s 13ms/step - loss: 0.2822 - accuracy: 0.9002\n",
      "Epoch 72/200\n",
      "35/35 [==============================] - 0s 13ms/step - loss: 0.2607 - accuracy: 0.9056\n",
      "Epoch 73/200\n",
      "35/35 [==============================] - 0s 13ms/step - loss: 0.2522 - accuracy: 0.9038\n",
      "Epoch 74/200\n",
      "35/35 [==============================] - 0s 13ms/step - loss: 0.2469 - accuracy: 0.9083\n",
      "Epoch 75/200\n",
      "35/35 [==============================] - 0s 13ms/step - loss: 0.2510 - accuracy: 0.9047\n",
      "Epoch 76/200\n",
      "35/35 [==============================] - 0s 13ms/step - loss: 0.2411 - accuracy: 0.9056\n",
      "Epoch 77/200\n",
      "35/35 [==============================] - 0s 13ms/step - loss: 0.2336 - accuracy: 0.9119\n",
      "Epoch 78/200\n",
      "35/35 [==============================] - 0s 13ms/step - loss: 0.2439 - accuracy: 0.9083\n",
      "Epoch 79/200\n",
      "35/35 [==============================] - 0s 13ms/step - loss: 0.2387 - accuracy: 0.9056\n",
      "Epoch 80/200\n",
      "35/35 [==============================] - 0s 13ms/step - loss: 0.2437 - accuracy: 0.9083\n",
      "Epoch 81/200\n",
      "35/35 [==============================] - 0s 13ms/step - loss: 0.2448 - accuracy: 0.9011\n",
      "Epoch 82/200\n",
      "35/35 [==============================] - 0s 13ms/step - loss: 0.2418 - accuracy: 0.9047\n",
      "Epoch 83/200\n",
      "35/35 [==============================] - 0s 13ms/step - loss: 0.2472 - accuracy: 0.9038\n",
      "Epoch 84/200\n",
      "35/35 [==============================] - 0s 13ms/step - loss: 0.2603 - accuracy: 0.9074\n",
      "Epoch 85/200\n",
      "35/35 [==============================] - 0s 13ms/step - loss: 0.2571 - accuracy: 0.9029\n",
      "Epoch 86/200\n",
      "35/35 [==============================] - 0s 13ms/step - loss: 0.3253 - accuracy: 0.8822\n",
      "Epoch 87/200\n",
      "35/35 [==============================] - 0s 13ms/step - loss: 0.3254 - accuracy: 0.8921\n",
      "Epoch 88/200\n",
      "35/35 [==============================] - 0s 13ms/step - loss: 0.2930 - accuracy: 0.8948\n",
      "Epoch 89/200\n",
      "35/35 [==============================] - 0s 13ms/step - loss: 0.2734 - accuracy: 0.8984\n",
      "Epoch 90/200\n",
      "35/35 [==============================] - 0s 13ms/step - loss: 0.2509 - accuracy: 0.9011\n",
      "Epoch 91/200\n",
      "35/35 [==============================] - 0s 13ms/step - loss: 0.2358 - accuracy: 0.9047\n",
      "Epoch 92/200\n",
      "35/35 [==============================] - 0s 13ms/step - loss: 0.2322 - accuracy: 0.9047\n",
      "Epoch 93/200\n",
      "35/35 [==============================] - 0s 13ms/step - loss: 0.2381 - accuracy: 0.9038\n",
      "Epoch 94/200\n",
      "35/35 [==============================] - 0s 13ms/step - loss: 0.2296 - accuracy: 0.9065\n",
      "Epoch 95/200\n",
      "35/35 [==============================] - 0s 13ms/step - loss: 0.2311 - accuracy: 0.9047\n",
      "Epoch 96/200\n",
      "35/35 [==============================] - 0s 13ms/step - loss: 0.2303 - accuracy: 0.9047\n",
      "Epoch 97/200\n",
      "35/35 [==============================] - 0s 13ms/step - loss: 0.2249 - accuracy: 0.9074\n",
      "Epoch 98/200\n",
      "35/35 [==============================] - 0s 13ms/step - loss: 0.2255 - accuracy: 0.9092\n",
      "Epoch 99/200\n",
      "35/35 [==============================] - 0s 13ms/step - loss: 0.2303 - accuracy: 0.9029\n",
      "Epoch 100/200\n",
      "35/35 [==============================] - 0s 13ms/step - loss: 0.2250 - accuracy: 0.8975\n",
      "Epoch 101/200\n",
      "35/35 [==============================] - 0s 13ms/step - loss: 0.2234 - accuracy: 0.9083\n",
      "Epoch 102/200\n",
      "35/35 [==============================] - 0s 13ms/step - loss: 0.2244 - accuracy: 0.9002\n",
      "Epoch 103/200\n",
      "35/35 [==============================] - 0s 13ms/step - loss: 0.2196 - accuracy: 0.9020\n",
      "Epoch 104/200\n",
      "35/35 [==============================] - 0s 13ms/step - loss: 0.2210 - accuracy: 0.9047\n",
      "Epoch 105/200\n",
      "35/35 [==============================] - 0s 13ms/step - loss: 0.2220 - accuracy: 0.9020\n",
      "Epoch 106/200\n",
      "35/35 [==============================] - 0s 14ms/step - loss: 0.2222 - accuracy: 0.9056\n",
      "Epoch 107/200\n",
      "35/35 [==============================] - 0s 14ms/step - loss: 0.2158 - accuracy: 0.9074\n",
      "Epoch 108/200\n",
      "35/35 [==============================] - 0s 14ms/step - loss: 0.2201 - accuracy: 0.9065\n",
      "Epoch 109/200\n",
      "35/35 [==============================] - 0s 14ms/step - loss: 0.2192 - accuracy: 0.9020\n",
      "Epoch 110/200\n",
      "35/35 [==============================] - 0s 13ms/step - loss: 0.2183 - accuracy: 0.9083\n",
      "Epoch 111/200\n",
      "35/35 [==============================] - 0s 13ms/step - loss: 0.2150 - accuracy: 0.9038\n",
      "Epoch 112/200\n",
      "35/35 [==============================] - 0s 13ms/step - loss: 0.2200 - accuracy: 0.9038\n",
      "Epoch 113/200\n",
      "35/35 [==============================] - 0s 13ms/step - loss: 0.2222 - accuracy: 0.9065\n",
      "Epoch 114/200\n",
      "35/35 [==============================] - 0s 13ms/step - loss: 0.2195 - accuracy: 0.9110\n",
      "Epoch 115/200\n",
      "35/35 [==============================] - 0s 13ms/step - loss: 0.2191 - accuracy: 0.9101\n",
      "Epoch 116/200\n",
      "35/35 [==============================] - 0s 13ms/step - loss: 0.2147 - accuracy: 0.9011\n",
      "Epoch 117/200\n",
      "35/35 [==============================] - 0s 13ms/step - loss: 0.2201 - accuracy: 0.9038\n",
      "Epoch 118/200\n",
      "35/35 [==============================] - 0s 13ms/step - loss: 0.2187 - accuracy: 0.9074\n",
      "Epoch 119/200\n",
      "35/35 [==============================] - 0s 13ms/step - loss: 0.2201 - accuracy: 0.9056\n",
      "Epoch 120/200\n",
      "35/35 [==============================] - 0s 14ms/step - loss: 0.2135 - accuracy: 0.9092\n",
      "Epoch 121/200\n",
      "35/35 [==============================] - 0s 14ms/step - loss: 0.2143 - accuracy: 0.9083\n",
      "Epoch 122/200\n",
      "35/35 [==============================] - 0s 14ms/step - loss: 0.2186 - accuracy: 0.9029\n",
      "Epoch 123/200\n",
      "35/35 [==============================] - 0s 14ms/step - loss: 0.2218 - accuracy: 0.9056\n",
      "Epoch 124/200\n",
      "35/35 [==============================] - 0s 13ms/step - loss: 0.2175 - accuracy: 0.9065\n",
      "Epoch 125/200\n",
      "35/35 [==============================] - 0s 13ms/step - loss: 0.2180 - accuracy: 0.9083\n",
      "Epoch 126/200\n",
      "35/35 [==============================] - 1s 14ms/step - loss: 0.2385 - accuracy: 0.8984\n",
      "Epoch 127/200\n",
      "35/35 [==============================] - 1s 14ms/step - loss: 0.2387 - accuracy: 0.9011\n",
      "Epoch 128/200\n",
      "35/35 [==============================] - 0s 13ms/step - loss: 0.2246 - accuracy: 0.9038\n",
      "Epoch 129/200\n",
      "35/35 [==============================] - 0s 14ms/step - loss: 0.2226 - accuracy: 0.8993\n",
      "Epoch 130/200\n",
      "35/35 [==============================] - 0s 13ms/step - loss: 0.2151 - accuracy: 0.9092\n",
      "Epoch 131/200\n",
      "35/35 [==============================] - 1s 14ms/step - loss: 0.2148 - accuracy: 0.9101\n",
      "Epoch 132/200\n",
      "35/35 [==============================] - 0s 14ms/step - loss: 0.2149 - accuracy: 0.9056\n",
      "Epoch 133/200\n",
      "35/35 [==============================] - 0s 13ms/step - loss: 0.2117 - accuracy: 0.9110\n",
      "Epoch 134/200\n",
      "35/35 [==============================] - 0s 13ms/step - loss: 0.2145 - accuracy: 0.9110\n",
      "Epoch 135/200\n",
      "35/35 [==============================] - 0s 13ms/step - loss: 0.2109 - accuracy: 0.9038\n",
      "Epoch 136/200\n",
      "35/35 [==============================] - 0s 14ms/step - loss: 0.2265 - accuracy: 0.8975\n",
      "Epoch 137/200\n",
      "35/35 [==============================] - 1s 15ms/step - loss: 0.2156 - accuracy: 0.9047\n",
      "Epoch 138/200\n",
      "35/35 [==============================] - 0s 13ms/step - loss: 0.2151 - accuracy: 0.9047\n",
      "Epoch 139/200\n",
      "35/35 [==============================] - 0s 13ms/step - loss: 0.2140 - accuracy: 0.9038\n",
      "Epoch 140/200\n",
      "35/35 [==============================] - 0s 13ms/step - loss: 0.2116 - accuracy: 0.9056\n",
      "Epoch 141/200\n",
      "35/35 [==============================] - 0s 13ms/step - loss: 0.2139 - accuracy: 0.9047\n",
      "Epoch 142/200\n",
      "35/35 [==============================] - 0s 14ms/step - loss: 0.2096 - accuracy: 0.9065\n",
      "Epoch 143/200\n",
      "35/35 [==============================] - 0s 13ms/step - loss: 0.2183 - accuracy: 0.9029\n",
      "Epoch 144/200\n",
      "35/35 [==============================] - 0s 13ms/step - loss: 0.2233 - accuracy: 0.9047\n",
      "Epoch 145/200\n",
      "35/35 [==============================] - 0s 13ms/step - loss: 0.2276 - accuracy: 0.9047\n",
      "Epoch 146/200\n",
      "35/35 [==============================] - 0s 13ms/step - loss: 0.2248 - accuracy: 0.9056\n",
      "Epoch 147/200\n",
      "35/35 [==============================] - 0s 13ms/step - loss: 0.2133 - accuracy: 0.9065\n",
      "Epoch 148/200\n",
      "35/35 [==============================] - 0s 13ms/step - loss: 0.2172 - accuracy: 0.9029\n",
      "Epoch 149/200\n",
      "35/35 [==============================] - 0s 13ms/step - loss: 0.2340 - accuracy: 0.9011\n",
      "Epoch 150/200\n",
      "35/35 [==============================] - 0s 13ms/step - loss: 0.2159 - accuracy: 0.9029\n",
      "Epoch 151/200\n",
      "35/35 [==============================] - 0s 13ms/step - loss: 0.2247 - accuracy: 0.9002\n",
      "Epoch 152/200\n",
      "35/35 [==============================] - 0s 13ms/step - loss: 0.2347 - accuracy: 0.9047\n",
      "Epoch 153/200\n",
      "35/35 [==============================] - 0s 14ms/step - loss: 0.2254 - accuracy: 0.9029\n",
      "Epoch 154/200\n",
      "35/35 [==============================] - 0s 13ms/step - loss: 0.2263 - accuracy: 0.9011\n",
      "Epoch 155/200\n",
      "35/35 [==============================] - 0s 13ms/step - loss: 0.2192 - accuracy: 0.9065\n",
      "Epoch 156/200\n",
      "35/35 [==============================] - 0s 13ms/step - loss: 0.2238 - accuracy: 0.9056\n",
      "Epoch 157/200\n",
      "35/35 [==============================] - 0s 13ms/step - loss: 0.2187 - accuracy: 0.9056\n",
      "Epoch 158/200\n",
      "35/35 [==============================] - 0s 14ms/step - loss: 0.2179 - accuracy: 0.9047\n",
      "Epoch 159/200\n",
      "35/35 [==============================] - 0s 13ms/step - loss: 0.2129 - accuracy: 0.9002\n",
      "Epoch 160/200\n",
      "35/35 [==============================] - 0s 13ms/step - loss: 0.2106 - accuracy: 0.9056\n",
      "Epoch 161/200\n",
      "35/35 [==============================] - 0s 14ms/step - loss: 0.2379 - accuracy: 0.9002\n",
      "Epoch 162/200\n",
      "35/35 [==============================] - 0s 13ms/step - loss: 0.2314 - accuracy: 0.9047\n",
      "Epoch 163/200\n",
      "35/35 [==============================] - 0s 13ms/step - loss: 0.2175 - accuracy: 0.9002\n",
      "Epoch 164/200\n",
      "35/35 [==============================] - 0s 13ms/step - loss: 0.2257 - accuracy: 0.9038\n",
      "Epoch 165/200\n",
      "35/35 [==============================] - 0s 13ms/step - loss: 0.2216 - accuracy: 0.9056\n",
      "Epoch 166/200\n",
      "35/35 [==============================] - 0s 13ms/step - loss: 0.2123 - accuracy: 0.9029\n",
      "Epoch 167/200\n",
      "35/35 [==============================] - 0s 13ms/step - loss: 0.2111 - accuracy: 0.9074\n",
      "Epoch 168/200\n",
      "35/35 [==============================] - 1s 15ms/step - loss: 0.2105 - accuracy: 0.9029\n",
      "Epoch 169/200\n",
      "35/35 [==============================] - 0s 13ms/step - loss: 0.2077 - accuracy: 0.9056\n",
      "Epoch 170/200\n",
      "35/35 [==============================] - 0s 13ms/step - loss: 0.2065 - accuracy: 0.9047\n",
      "Epoch 171/200\n",
      "35/35 [==============================] - 0s 14ms/step - loss: 0.2075 - accuracy: 0.9092\n",
      "Epoch 172/200\n",
      "35/35 [==============================] - 0s 13ms/step - loss: 0.2062 - accuracy: 0.9065\n",
      "Epoch 173/200\n",
      "35/35 [==============================] - 0s 14ms/step - loss: 0.2072 - accuracy: 0.9029\n",
      "Epoch 174/200\n",
      "35/35 [==============================] - 1s 16ms/step - loss: 0.2064 - accuracy: 0.9074\n",
      "Epoch 175/200\n",
      "35/35 [==============================] - 0s 14ms/step - loss: 0.2041 - accuracy: 0.9029\n",
      "Epoch 176/200\n",
      "35/35 [==============================] - 0s 13ms/step - loss: 0.2087 - accuracy: 0.9038\n",
      "Epoch 177/200\n",
      "35/35 [==============================] - 0s 13ms/step - loss: 0.2025 - accuracy: 0.9056\n",
      "Epoch 178/200\n",
      "35/35 [==============================] - 0s 13ms/step - loss: 0.2036 - accuracy: 0.9074\n",
      "Epoch 179/200\n",
      "35/35 [==============================] - 0s 13ms/step - loss: 0.2049 - accuracy: 0.9074\n",
      "Epoch 180/200\n",
      "35/35 [==============================] - 0s 14ms/step - loss: 0.2069 - accuracy: 0.9056\n",
      "Epoch 181/200\n",
      "35/35 [==============================] - 0s 14ms/step - loss: 0.2032 - accuracy: 0.9074\n",
      "Epoch 182/200\n",
      "35/35 [==============================] - 0s 14ms/step - loss: 0.2042 - accuracy: 0.9065\n",
      "Epoch 183/200\n",
      "35/35 [==============================] - 0s 13ms/step - loss: 0.2048 - accuracy: 0.9074\n",
      "Epoch 184/200\n",
      "35/35 [==============================] - 0s 13ms/step - loss: 0.2043 - accuracy: 0.9083\n",
      "Epoch 185/200\n",
      "35/35 [==============================] - 0s 13ms/step - loss: 0.2055 - accuracy: 0.9056\n",
      "Epoch 186/200\n",
      "35/35 [==============================] - 0s 13ms/step - loss: 0.2043 - accuracy: 0.9047\n",
      "Epoch 187/200\n",
      "35/35 [==============================] - 0s 13ms/step - loss: 0.2091 - accuracy: 0.9038\n",
      "Epoch 188/200\n",
      "35/35 [==============================] - 0s 13ms/step - loss: 0.2074 - accuracy: 0.9065\n",
      "Epoch 189/200\n",
      "35/35 [==============================] - 0s 13ms/step - loss: 0.2083 - accuracy: 0.9065\n",
      "Epoch 190/200\n",
      "35/35 [==============================] - 0s 13ms/step - loss: 0.2047 - accuracy: 0.9029\n",
      "Epoch 191/200\n",
      "35/35 [==============================] - 0s 13ms/step - loss: 0.2049 - accuracy: 0.9056\n",
      "Epoch 192/200\n",
      "35/35 [==============================] - 0s 13ms/step - loss: 0.2067 - accuracy: 0.9074\n",
      "Epoch 193/200\n",
      "35/35 [==============================] - 0s 13ms/step - loss: 0.2127 - accuracy: 0.9020\n",
      "Epoch 194/200\n",
      "35/35 [==============================] - 0s 13ms/step - loss: 0.3074 - accuracy: 0.8876\n",
      "Epoch 195/200\n",
      "35/35 [==============================] - 0s 13ms/step - loss: 0.2792 - accuracy: 0.8867\n",
      "Epoch 196/200\n",
      "35/35 [==============================] - 0s 13ms/step - loss: 0.2509 - accuracy: 0.8948\n",
      "Epoch 197/200\n",
      "35/35 [==============================] - 0s 13ms/step - loss: 0.2367 - accuracy: 0.8984\n",
      "Epoch 198/200\n",
      "35/35 [==============================] - 0s 13ms/step - loss: 0.2161 - accuracy: 0.9092\n",
      "Epoch 199/200\n",
      "35/35 [==============================] - 0s 14ms/step - loss: 0.2058 - accuracy: 0.9074\n",
      "Epoch 200/200\n",
      "35/35 [==============================] - 0s 14ms/step - loss: 0.2051 - accuracy: 0.9092\n"
     ]
    }
   ],
   "source": [
    "history = model.fit(features, labels, epochs=200, verbose=1)"
   ]
  },
  {
   "cell_type": "code",
   "execution_count": 49,
   "id": "2801d584-8afe-4a7a-9997-8eb0d6204f28",
   "metadata": {},
   "outputs": [
    {
     "name": "stdout",
     "output_type": "stream",
     "text": [
      "I am happy and proud alone i had everything give an alright scene scene alright scene scene screen screen eat blood sold on warm such give you breathing bomb smile library\n"
     ]
    }
   ],
   "source": [
    "seed_text = \"I am happy and proud\"\n",
    "next_words = 26\n",
    "  \n",
    "for _ in range(next_words):\n",
    "    # Convert the text into sequences\n",
    "    token_list = tokenizer.texts_to_sequences([seed_text])[0]\n",
    "    # Pad the sequences\n",
    "    token_list = pad_sequences([token_list], maxlen=max_sequence_len-1, padding='pre')\n",
    "    # Get the probabilities of predicting a word\n",
    "    predicted = model.predict(token_list, verbose=0)\n",
    "    # Choose the next word based on the maximum probability\n",
    "    predicted = np.argmax(predicted, axis=-1).item()\n",
    "    # Get the actual word from the word index\n",
    "    output_word = tokenizer.index_word[predicted]\n",
    "    # Append to the current text\n",
    "    seed_text += \" \" + output_word\n",
    "\n",
    "print(seed_text)"
   ]
  },
  {
   "cell_type": "code",
   "execution_count": null,
   "id": "f570c447-b6bd-490b-9a81-f74bfacfc59b",
   "metadata": {},
   "outputs": [],
   "source": []
  }
 ],
 "metadata": {
  "kernelspec": {
   "display_name": "Python 3 (ipykernel)",
   "language": "python",
   "name": "python3"
  },
  "language_info": {
   "codemirror_mode": {
    "name": "ipython",
    "version": 3
   },
   "file_extension": ".py",
   "mimetype": "text/x-python",
   "name": "python",
   "nbconvert_exporter": "python",
   "pygments_lexer": "ipython3",
   "version": "3.8.10"
  }
 },
 "nbformat": 4,
 "nbformat_minor": 5
}
